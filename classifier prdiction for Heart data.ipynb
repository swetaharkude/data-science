{
 "cells": [
  {
   "cell_type": "code",
   "execution_count": 93,
   "metadata": {},
   "outputs": [],
   "source": [
    "import numpy as np\n",
    "import matplotlib.pyplot as plt\n",
    "import pandas as pd\n",
    "import pickle as pk\n",
    "import seaborn as sns"
   ]
  },
  {
   "cell_type": "code",
   "execution_count": 94,
   "metadata": {},
   "outputs": [],
   "source": [
    "models = []\n",
    "acc = []\n",
    "precision = []\n",
    "recall = []\n",
    "f1 = []\n",
    "AUC_Score=[]"
   ]
  },
  {
   "cell_type": "code",
   "execution_count": 95,
   "metadata": {},
   "outputs": [
    {
     "data": {
      "text/html": [
       "<div>\n",
       "<style scoped>\n",
       "    .dataframe tbody tr th:only-of-type {\n",
       "        vertical-align: middle;\n",
       "    }\n",
       "\n",
       "    .dataframe tbody tr th {\n",
       "        vertical-align: top;\n",
       "    }\n",
       "\n",
       "    .dataframe thead th {\n",
       "        text-align: right;\n",
       "    }\n",
       "</style>\n",
       "<table border=\"1\" class=\"dataframe\">\n",
       "  <thead>\n",
       "    <tr style=\"text-align: right;\">\n",
       "      <th></th>\n",
       "      <th>sex</th>\n",
       "      <th>cp</th>\n",
       "      <th>trestbps</th>\n",
       "      <th>chol</th>\n",
       "      <th>fbs</th>\n",
       "      <th>restecg</th>\n",
       "      <th>thalach</th>\n",
       "      <th>exang</th>\n",
       "      <th>oldpeak</th>\n",
       "      <th>slope</th>\n",
       "      <th>ca</th>\n",
       "      <th>thal</th>\n",
       "      <th>target</th>\n",
       "    </tr>\n",
       "    <tr>\n",
       "      <th>age</th>\n",
       "      <th></th>\n",
       "      <th></th>\n",
       "      <th></th>\n",
       "      <th></th>\n",
       "      <th></th>\n",
       "      <th></th>\n",
       "      <th></th>\n",
       "      <th></th>\n",
       "      <th></th>\n",
       "      <th></th>\n",
       "      <th></th>\n",
       "      <th></th>\n",
       "      <th></th>\n",
       "    </tr>\n",
       "  </thead>\n",
       "  <tbody>\n",
       "    <tr>\n",
       "      <th>57</th>\n",
       "      <td>0</td>\n",
       "      <td>0</td>\n",
       "      <td>140</td>\n",
       "      <td>241</td>\n",
       "      <td>0</td>\n",
       "      <td>1</td>\n",
       "      <td>123</td>\n",
       "      <td>1</td>\n",
       "      <td>0.2</td>\n",
       "      <td>1</td>\n",
       "      <td>0</td>\n",
       "      <td>3</td>\n",
       "      <td>0</td>\n",
       "    </tr>\n",
       "    <tr>\n",
       "      <th>45</th>\n",
       "      <td>1</td>\n",
       "      <td>3</td>\n",
       "      <td>110</td>\n",
       "      <td>264</td>\n",
       "      <td>0</td>\n",
       "      <td>1</td>\n",
       "      <td>132</td>\n",
       "      <td>0</td>\n",
       "      <td>1.2</td>\n",
       "      <td>1</td>\n",
       "      <td>0</td>\n",
       "      <td>3</td>\n",
       "      <td>0</td>\n",
       "    </tr>\n",
       "    <tr>\n",
       "      <th>68</th>\n",
       "      <td>1</td>\n",
       "      <td>0</td>\n",
       "      <td>144</td>\n",
       "      <td>193</td>\n",
       "      <td>1</td>\n",
       "      <td>1</td>\n",
       "      <td>141</td>\n",
       "      <td>0</td>\n",
       "      <td>3.4</td>\n",
       "      <td>1</td>\n",
       "      <td>2</td>\n",
       "      <td>3</td>\n",
       "      <td>0</td>\n",
       "    </tr>\n",
       "    <tr>\n",
       "      <th>57</th>\n",
       "      <td>1</td>\n",
       "      <td>0</td>\n",
       "      <td>130</td>\n",
       "      <td>131</td>\n",
       "      <td>0</td>\n",
       "      <td>1</td>\n",
       "      <td>115</td>\n",
       "      <td>1</td>\n",
       "      <td>1.2</td>\n",
       "      <td>1</td>\n",
       "      <td>1</td>\n",
       "      <td>3</td>\n",
       "      <td>0</td>\n",
       "    </tr>\n",
       "    <tr>\n",
       "      <th>57</th>\n",
       "      <td>0</td>\n",
       "      <td>1</td>\n",
       "      <td>130</td>\n",
       "      <td>236</td>\n",
       "      <td>0</td>\n",
       "      <td>0</td>\n",
       "      <td>174</td>\n",
       "      <td>0</td>\n",
       "      <td>0.0</td>\n",
       "      <td>1</td>\n",
       "      <td>1</td>\n",
       "      <td>2</td>\n",
       "      <td>0</td>\n",
       "    </tr>\n",
       "  </tbody>\n",
       "</table>\n",
       "</div>"
      ],
      "text/plain": [
       "     sex  cp  trestbps  chol  fbs  restecg  thalach  exang  oldpeak  slope  \\\n",
       "age                                                                          \n",
       "57     0   0       140   241    0        1      123      1      0.2      1   \n",
       "45     1   3       110   264    0        1      132      0      1.2      1   \n",
       "68     1   0       144   193    1        1      141      0      3.4      1   \n",
       "57     1   0       130   131    0        1      115      1      1.2      1   \n",
       "57     0   1       130   236    0        0      174      0      0.0      1   \n",
       "\n",
       "     ca  thal  target  \n",
       "age                    \n",
       "57    0     3       0  \n",
       "45    0     3       0  \n",
       "68    2     3       0  \n",
       "57    1     3       0  \n",
       "57    1     2       0  "
      ]
     },
     "execution_count": 95,
     "metadata": {},
     "output_type": "execute_result"
    }
   ],
   "source": [
    "dataset = pd.read_csv('heart.csv', index_col=0)\n",
    "dataset.tail()"
   ]
  },
  {
   "cell_type": "code",
   "execution_count": 96,
   "metadata": {},
   "outputs": [],
   "source": [
    "X = dataset.iloc[:, :-1].values\n",
    "y = dataset.iloc[:, -1].values"
   ]
  },
  {
   "cell_type": "code",
   "execution_count": 97,
   "metadata": {},
   "outputs": [],
   "source": [
    "from sklearn.model_selection import train_test_split\n",
    "X_train, X_test, y_train, y_test = train_test_split(X, y, test_size = 0.25,random_state = 0)"
   ]
  },
  {
   "cell_type": "code",
   "execution_count": 98,
   "metadata": {},
   "outputs": [],
   "source": [
    "from sklearn.preprocessing import StandardScaler\n",
    "sc = StandardScaler()"
   ]
  },
  {
   "cell_type": "code",
   "execution_count": 99,
   "metadata": {},
   "outputs": [],
   "source": [
    "X_train = sc.fit_transform(X_train)"
   ]
  },
  {
   "cell_type": "code",
   "execution_count": 100,
   "metadata": {},
   "outputs": [],
   "source": [
    "X_test = sc.transform(X_test)"
   ]
  },
  {
   "cell_type": "markdown",
   "metadata": {},
   "source": [
    "## Decision Trees"
   ]
  },
  {
   "cell_type": "code",
   "execution_count": 101,
   "metadata": {},
   "outputs": [],
   "source": [
    "from sklearn.tree import DecisionTreeClassifier\n",
    "dt = DecisionTreeClassifier(criterion = 'entropy', \n",
    "                            max_depth=3 ,\n",
    "                            random_state = 0)\n",
    "dt.fit(X_train, y_train)\n",
    "models.append('Decision Trees')"
   ]
  },
  {
   "cell_type": "markdown",
   "metadata": {},
   "source": [
    "# Support Vector Machines"
   ]
  },
  {
   "cell_type": "code",
   "execution_count": 102,
   "metadata": {},
   "outputs": [],
   "source": [
    "from sklearn.svm import SVC\n",
    "svc = SVC(kernel = 'rbf', random_state = 0,probability=True )\n",
    "svc.fit(X_train, y_train)\n",
    "models.append('SVM')"
   ]
  },
  {
   "cell_type": "markdown",
   "metadata": {},
   "source": [
    "# Random Forest Classifier"
   ]
  },
  {
   "cell_type": "code",
   "execution_count": 103,
   "metadata": {},
   "outputs": [],
   "source": [
    "from sklearn.ensemble import RandomForestClassifier\n",
    "rf = RandomForestClassifier(n_estimators = 12, criterion = 'entropy', \n",
    "                                    random_state = 0)\n",
    "rf.fit(X_train, y_train)\n",
    "models.append('Random Forest')"
   ]
  },
  {
   "cell_type": "markdown",
   "metadata": {},
   "source": [
    "# Naive Bayes Model"
   ]
  },
  {
   "cell_type": "code",
   "execution_count": 104,
   "metadata": {},
   "outputs": [],
   "source": [
    "from sklearn.naive_bayes import GaussianNB\n",
    "GNB = GaussianNB()\n",
    "GNB.fit(X_train, y_train)\n",
    "models.append('NaiveBayesModel')"
   ]
  },
  {
   "cell_type": "code",
   "execution_count": 105,
   "metadata": {},
   "outputs": [],
   "source": [
    "from sklearn.metrics import (confusion_matrix, accuracy_score, precision_score, \n",
    "                             recall_score, f1_score, roc_curve, roc_auc_score)"
   ]
  },
  {
   "cell_type": "code",
   "execution_count": 106,
   "metadata": {},
   "outputs": [],
   "source": [
    "def plot_roc_curve(fpr, tpr):\n",
    "    plt.plot(fpr, tpr, color='orange', label='ROC')\n",
    "    plt.plot([0, 1], [0, 1], color='darkblue', linestyle='--')\n",
    "    plt.xlabel('False Positive Rate')\n",
    "    plt.ylabel('True Positive Rate')\n",
    "    plt.title('Receiver Operating Characteristic (ROC) Curve')\n",
    "    plt.legend()\n",
    "    plt.show()"
   ]
  },
  {
   "cell_type": "markdown",
   "metadata": {},
   "source": [
    "# Matrices for Decision Tree"
   ]
  },
  {
   "cell_type": "code",
   "execution_count": 107,
   "metadata": {},
   "outputs": [
    {
     "name": "stdout",
     "output_type": "stream",
     "text": [
      "Confusion Matrix for DTrees: \n",
      " [[24  9]\n",
      " [ 9 34]]\n",
      "Accuracy for DTrees: \n",
      " 0.7631578947368421\n",
      "Precision for DTrees: \n",
      " 0.7906976744186046\n",
      "Recall for DTrees: \n",
      " 0.7906976744186046\n",
      "f1_score for DTrees: \n",
      " 0.7906976744186046\n",
      "AUC_Score for DTrees: \n",
      " 0.758985200845666\n"
     ]
    }
   ],
   "source": [
    "print('Confusion Matrix for DTrees: \\n',confusion_matrix(y_test, dt.predict(X_test)))\n",
    "print('Accuracy for DTrees: \\n',accuracy_score(y_test, dt.predict(X_test)))\n",
    "acc.append(accuracy_score(y_test, dt.predict(X_test)))\n",
    "print('Precision for DTrees: \\n',precision_score(y_test, dt.predict(X_test)))\n",
    "precision.append(precision_score(y_test, dt.predict(X_test)))\n",
    "print('Recall for DTrees: \\n',recall_score(y_test, dt.predict(X_test)))\n",
    "recall.append(recall_score(y_test, dt.predict(X_test)))\n",
    "print('f1_score for DTrees: \\n',f1_score(y_test, dt.predict(X_test)))\n",
    "f1.append(f1_score(y_test, dt.predict(X_test)))\n",
    "print('AUC_Score for DTrees: \\n',roc_auc_score(y_test, dt.predict(X_test)))\n",
    "AUC_Score.append(roc_auc_score(y_test, dt.predict(X_test)))"
   ]
  },
  {
   "cell_type": "code",
   "execution_count": 108,
   "metadata": {},
   "outputs": [
    {
     "data": {
      "image/png": "[encoded data removed]",
      "text/plain": [
       "<Figure size 432x288 with 1 Axes>"
      ]
     },
     "metadata": {
      "needs_background": "light"
     },
     "output_type": "display_data"
    }
   ],
   "source": [
    "probs = dt.predict_proba(X_test)\n",
    "probs = probs[:, 1]\n",
    "fpr, tpr, thresholds = roc_curve(y_test, probs)\n",
    "plot_roc_curve(fpr, tpr)"
   ]
  },
  {
   "cell_type": "markdown",
   "metadata": {},
   "source": [
    "# # Matrices for Support Vector Machine"
   ]
  },
  {
   "cell_type": "code",
   "execution_count": 109,
   "metadata": {},
   "outputs": [
    {
     "name": "stdout",
     "output_type": "stream",
     "text": [
      "Confusion Matrix for SVM: \n",
      " [[24  9]\n",
      " [ 3 40]]\n",
      "Accuracy for SVM: \n",
      " 0.8421052631578947\n",
      "Precision for SVM: \n",
      " 0.8163265306122449\n",
      "Recall for SVM: \n",
      " 0.9302325581395349\n",
      "f1_score for SVM: \n",
      " 0.8695652173913043\n",
      "AUC_Score for SVM: \n",
      " 0.828752642706131\n"
     ]
    }
   ],
   "source": [
    "print('Confusion Matrix for SVM: \\n',confusion_matrix(y_test, svc.predict(X_test)))\n",
    "print('Accuracy for SVM: \\n',accuracy_score(y_test, svc.predict(X_test)))\n",
    "acc.append(accuracy_score(y_test, svc.predict(X_test)))\n",
    "print('Precision for SVM: \\n',precision_score(y_test, svc.predict(X_test)))\n",
    "precision.append(precision_score(y_test, svc.predict(X_test)))\n",
    "print('Recall for SVM: \\n',recall_score(y_test, svc.predict(X_test)))\n",
    "recall.append(recall_score(y_test, svc.predict(X_test)))\n",
    "print('f1_score for SVM: \\n',f1_score(y_test, svc.predict(X_test)))\n",
    "f1.append(f1_score(y_test, svc.predict(X_test)))\n",
    "print('AUC_Score for SVM: \\n',roc_auc_score(y_test, svc.predict(X_test)))\n",
    "AUC_Score.append(roc_auc_score(y_test, svc.predict(X_test)))"
   ]
  },
  {
   "cell_type": "code",
   "execution_count": 110,
   "metadata": {},
   "outputs": [
    {
     "data": {
      "image/png": "[encoded data removed]",
      "text/plain": [
       "<Figure size 432x288 with 1 Axes>"
      ]
     },
     "metadata": {
      "needs_background": "light"
     },
     "output_type": "display_data"
    }
   ],
   "source": [
    "probs = svc.predict_proba(X_test)\n",
    "probs = probs[:, 1]\n",
    "fpr, tpr, thresholds = roc_curve(y_test, probs)\n",
    "plot_roc_curve(fpr, tpr)"
   ]
  },
  {
   "cell_type": "markdown",
   "metadata": {},
   "source": [
    "# # Matrices for Random Forest"
   ]
  },
  {
   "cell_type": "code",
   "execution_count": 111,
   "metadata": {},
   "outputs": [
    {
     "name": "stdout",
     "output_type": "stream",
     "text": [
      "Confusion Matrix for RF: \n",
      " [[25  8]\n",
      " [ 5 38]]\n",
      "Accuracy for RF: \n",
      " 0.8289473684210527\n",
      "Precision for RF: \n",
      " 0.8260869565217391\n",
      "Recall for RF: \n",
      " 0.8837209302325582\n",
      "f1_score for RF: \n",
      " 0.853932584269663\n",
      "AUC_Score for RF: \n",
      " 0.8206483439041579\n"
     ]
    }
   ],
   "source": [
    "print('Confusion Matrix for RF: \\n',confusion_matrix(y_test, rf.predict(X_test)))\n",
    "print('Accuracy for RF: \\n',accuracy_score(y_test, rf.predict(X_test)))\n",
    "acc.append(accuracy_score(y_test, rf.predict(X_test)))\n",
    "print('Precision for RF: \\n',precision_score(y_test, rf.predict(X_test)))\n",
    "precision.append(precision_score(y_test, rf.predict(X_test)))\n",
    "print('Recall for RF: \\n',recall_score(y_test, rf.predict(X_test)))\n",
    "recall.append(recall_score(y_test, rf.predict(X_test)))\n",
    "print('f1_score for RF: \\n',f1_score(y_test, rf.predict(X_test)))\n",
    "f1.append(f1_score(y_test, rf.predict(X_test)))\n",
    "print('AUC_Score for RF: \\n',roc_auc_score(y_test, rf.predict(X_test)))\n",
    "AUC_Score.append(roc_auc_score(y_test, rf.predict(X_test)))"
   ]
  },
  {
   "cell_type": "code",
   "execution_count": 112,
   "metadata": {},
   "outputs": [
    {
     "data": {
      "image/png": "[encoded data removed]",
      "text/plain": [
       "<Figure size 432x288 with 1 Axes>"
      ]
     },
     "metadata": {
      "needs_background": "light"
     },
     "output_type": "display_data"
    }
   ],
   "source": [
    "probs = rf.predict_proba(X_test)\n",
    "probs = probs[:, 1]\n",
    "fpr, tpr, thresholds = roc_curve(y_test, probs)\n",
    "plot_roc_curve(fpr, tpr)"
   ]
  },
  {
   "cell_type": "markdown",
   "metadata": {},
   "source": [
    "# # Matrices for Naive Bayes"
   ]
  },
  {
   "cell_type": "code",
   "execution_count": 113,
   "metadata": {},
   "outputs": [
    {
     "name": "stdout",
     "output_type": "stream",
     "text": [
      "Confusion Matrix for GNB: \n",
      " [[23 10]\n",
      " [ 4 39]]\n",
      "Accuracy for GNB: \n",
      " 0.8157894736842105\n",
      "Precision for GNB: \n",
      " 0.7959183673469388\n",
      "Recall for GNB: \n",
      " 0.9069767441860465\n",
      "f1_score for GNB: \n",
      " 0.8478260869565216\n",
      "AUC_Score for GNB: \n",
      " 0.8019732205778717\n"
     ]
    }
   ],
   "source": [
    "print('Confusion Matrix for GNB: \\n',confusion_matrix(y_test, GNB.predict(X_test)))\n",
    "print('Accuracy for GNB: \\n',accuracy_score(y_test, GNB.predict(X_test)))\n",
    "acc.append(accuracy_score(y_test, GNB.predict(X_test)))\n",
    "print('Precision for GNB: \\n',precision_score(y_test, GNB.predict(X_test)))\n",
    "precision.append(precision_score(y_test, GNB.predict(X_test)))\n",
    "print('Recall for GNB: \\n',recall_score(y_test, GNB.predict(X_test)))\n",
    "recall.append(recall_score(y_test, GNB.predict(X_test)))\n",
    "print('f1_score for GNB: \\n',f1_score(y_test, GNB.predict(X_test)))\n",
    "f1.append(f1_score(y_test, GNB.predict(X_test)))\n",
    "print('AUC_Score for GNB: \\n',roc_auc_score(y_test, GNB.predict(X_test)))\n",
    "AUC_Score.append(roc_auc_score(y_test, GNB.predict(X_test)))"
   ]
  },
  {
   "cell_type": "code",
   "execution_count": 114,
   "metadata": {},
   "outputs": [
    {
     "data": {
      "image/png": "[encoded data removed]",
      "text/plain": [
       "<Figure size 432x288 with 1 Axes>"
      ]
     },
     "metadata": {
      "needs_background": "light"
     },
     "output_type": "display_data"
    }
   ],
   "source": [
    "probs = GNB.predict_proba(X_test)\n",
    "probs = probs[:, 1]\n",
    "fpr, tpr, thresholds = roc_curve(y_test, probs)\n",
    "plot_roc_curve(fpr, tpr)"
   ]
  },
  {
   "cell_type": "code",
   "execution_count": 115,
   "metadata": {},
   "outputs": [],
   "source": [
    "model_dict = {'Models': models,\n",
    "             'Accuracies': acc,\n",
    "             'Precision': precision,\n",
    "             'Recall': recall,\n",
    "             'f1-score': f1,\n",
    "             'AUC_Score':AUC_Score}"
   ]
  },
  {
   "cell_type": "code",
   "execution_count": 116,
   "metadata": {},
   "outputs": [
    {
     "data": {
      "text/html": [
       "<div>\n",
       "<style scoped>\n",
       "    .dataframe tbody tr th:only-of-type {\n",
       "        vertical-align: middle;\n",
       "    }\n",
       "\n",
       "    .dataframe tbody tr th {\n",
       "        vertical-align: top;\n",
       "    }\n",
       "\n",
       "    .dataframe thead th {\n",
       "        text-align: right;\n",
       "    }\n",
       "</style>\n",
       "<table border=\"1\" class=\"dataframe\">\n",
       "  <thead>\n",
       "    <tr style=\"text-align: right;\">\n",
       "      <th></th>\n",
       "      <th>Models</th>\n",
       "      <th>Accuracies</th>\n",
       "      <th>Precision</th>\n",
       "      <th>Recall</th>\n",
       "      <th>f1-score</th>\n",
       "      <th>AUC_Score</th>\n",
       "    </tr>\n",
       "  </thead>\n",
       "  <tbody>\n",
       "    <tr>\n",
       "      <th>0</th>\n",
       "      <td>Decision Trees</td>\n",
       "      <td>0.763158</td>\n",
       "      <td>0.790698</td>\n",
       "      <td>0.790698</td>\n",
       "      <td>0.790698</td>\n",
       "      <td>0.758985</td>\n",
       "    </tr>\n",
       "    <tr>\n",
       "      <th>1</th>\n",
       "      <td>SVM</td>\n",
       "      <td>0.842105</td>\n",
       "      <td>0.816327</td>\n",
       "      <td>0.930233</td>\n",
       "      <td>0.869565</td>\n",
       "      <td>0.828753</td>\n",
       "    </tr>\n",
       "    <tr>\n",
       "      <th>2</th>\n",
       "      <td>Random Forest</td>\n",
       "      <td>0.828947</td>\n",
       "      <td>0.826087</td>\n",
       "      <td>0.883721</td>\n",
       "      <td>0.853933</td>\n",
       "      <td>0.820648</td>\n",
       "    </tr>\n",
       "    <tr>\n",
       "      <th>3</th>\n",
       "      <td>NaiveBayesModel</td>\n",
       "      <td>0.815789</td>\n",
       "      <td>0.795918</td>\n",
       "      <td>0.906977</td>\n",
       "      <td>0.847826</td>\n",
       "      <td>0.801973</td>\n",
       "    </tr>\n",
       "  </tbody>\n",
       "</table>\n",
       "</div>"
      ],
      "text/plain": [
       "            Models  Accuracies  Precision    Recall  f1-score  AUC_Score\n",
       "0   Decision Trees    0.763158   0.790698  0.790698  0.790698   0.758985\n",
       "1              SVM    0.842105   0.816327  0.930233  0.869565   0.828753\n",
       "2    Random Forest    0.828947   0.826087  0.883721  0.853933   0.820648\n",
       "3  NaiveBayesModel    0.815789   0.795918  0.906977  0.847826   0.801973"
      ]
     },
     "execution_count": 116,
     "metadata": {},
     "output_type": "execute_result"
    }
   ],
   "source": [
    "model_df = pd.DataFrame(model_dict)\n",
    "model_df"
   ]
  },
  {
   "cell_type": "code",
   "execution_count": 117,
   "metadata": {},
   "outputs": [],
   "source": [
    "model_df = model_df.sort_values(['Accuracies', 'f1-score', 'Recall', 'Precision'],\n",
    "                               ascending=False)"
   ]
  },
  {
   "cell_type": "code",
   "execution_count": 118,
   "metadata": {},
   "outputs": [
    {
     "data": {
      "text/html": [
       "<div>\n",
       "<style scoped>\n",
       "    .dataframe tbody tr th:only-of-type {\n",
       "        vertical-align: middle;\n",
       "    }\n",
       "\n",
       "    .dataframe tbody tr th {\n",
       "        vertical-align: top;\n",
       "    }\n",
       "\n",
       "    .dataframe thead th {\n",
       "        text-align: right;\n",
       "    }\n",
       "</style>\n",
       "<table border=\"1\" class=\"dataframe\">\n",
       "  <thead>\n",
       "    <tr style=\"text-align: right;\">\n",
       "      <th></th>\n",
       "      <th>Models</th>\n",
       "      <th>Accuracies</th>\n",
       "      <th>Precision</th>\n",
       "      <th>Recall</th>\n",
       "      <th>f1-score</th>\n",
       "      <th>AUC_Score</th>\n",
       "    </tr>\n",
       "  </thead>\n",
       "  <tbody>\n",
       "    <tr>\n",
       "      <th>1</th>\n",
       "      <td>SVM</td>\n",
       "      <td>0.842105</td>\n",
       "      <td>0.816327</td>\n",
       "      <td>0.930233</td>\n",
       "      <td>0.869565</td>\n",
       "      <td>0.828753</td>\n",
       "    </tr>\n",
       "    <tr>\n",
       "      <th>2</th>\n",
       "      <td>Random Forest</td>\n",
       "      <td>0.828947</td>\n",
       "      <td>0.826087</td>\n",
       "      <td>0.883721</td>\n",
       "      <td>0.853933</td>\n",
       "      <td>0.820648</td>\n",
       "    </tr>\n",
       "    <tr>\n",
       "      <th>3</th>\n",
       "      <td>NaiveBayesModel</td>\n",
       "      <td>0.815789</td>\n",
       "      <td>0.795918</td>\n",
       "      <td>0.906977</td>\n",
       "      <td>0.847826</td>\n",
       "      <td>0.801973</td>\n",
       "    </tr>\n",
       "    <tr>\n",
       "      <th>0</th>\n",
       "      <td>Decision Trees</td>\n",
       "      <td>0.763158</td>\n",
       "      <td>0.790698</td>\n",
       "      <td>0.790698</td>\n",
       "      <td>0.790698</td>\n",
       "      <td>0.758985</td>\n",
       "    </tr>\n",
       "  </tbody>\n",
       "</table>\n",
       "</div>"
      ],
      "text/plain": [
       "            Models  Accuracies  Precision    Recall  f1-score  AUC_Score\n",
       "1              SVM    0.842105   0.816327  0.930233  0.869565   0.828753\n",
       "2    Random Forest    0.828947   0.826087  0.883721  0.853933   0.820648\n",
       "3  NaiveBayesModel    0.815789   0.795918  0.906977  0.847826   0.801973\n",
       "0   Decision Trees    0.763158   0.790698  0.790698  0.790698   0.758985"
      ]
     },
     "execution_count": 118,
     "metadata": {},
     "output_type": "execute_result"
    }
   ],
   "source": [
    "model_df"
   ]
  },
  {
   "cell_type": "markdown",
   "metadata": {},
   "source": [
    "# Hyper parameter tuning"
   ]
  },
  {
   "cell_type": "code",
   "execution_count": 119,
   "metadata": {},
   "outputs": [],
   "source": [
    "from sklearn.model_selection import cross_val_score\n",
    "accuracies = cross_val_score(estimator = dt, \n",
    "                             X = X_train, \n",
    "                             y = y_train, \n",
    "                             cv = 20)\n",
    "acMean = accuracies.mean()\n",
    "acStd = accuracies.std()"
   ]
  },
  {
   "cell_type": "code",
   "execution_count": 120,
   "metadata": {},
   "outputs": [
    {
     "data": {
      "text/plain": [
       "0.12211077856023889"
      ]
     },
     "execution_count": 120,
     "metadata": {},
     "output_type": "execute_result"
    }
   ],
   "source": [
    "acMean\n",
    "acStd"
   ]
  },
  {
   "cell_type": "code",
   "execution_count": 121,
   "metadata": {},
   "outputs": [
    {
     "data": {
      "text/plain": [
       "array([0.66666667, 0.75      , 0.66666667, 0.91666667, 0.83333333,\n",
       "       0.66666667, 1.        , 1.        , 0.90909091, 0.81818182,\n",
       "       0.72727273, 0.90909091, 0.63636364, 0.81818182, 0.90909091,\n",
       "       0.63636364, 0.72727273, 0.90909091, 1.        , 0.81818182])"
      ]
     },
     "execution_count": 121,
     "metadata": {},
     "output_type": "execute_result"
    }
   ],
   "source": [
    "accuracies"
   ]
  },
  {
   "cell_type": "code",
   "execution_count": null,
   "metadata": {},
   "outputs": [],
   "source": [
    "from sklearn.model_selection import GridSearchCV\n",
    "parameters = {\"n_estimators\": [100, 200, 300],\n",
    "              \"criterion\":['gini','entropy'],\n",
    "              \"max_depth\": [8, 16, 32],\n",
    "              \"min_samples_split\": [10, 20, 30],\n",
    "              \"min_samples_leaf\": [1, 5, 15],\n",
    "              \"min_weight_fraction_leaf\": [0.1, 0.05, 0.005]}\n",
    "grid_search = GridSearchCV(estimator = rf,\n",
    "                           param_grid = parameters,\n",
    "                           scoring = 'accuracy',\n",
    "                           cv = 20,\n",
    "                           n_jobs = -1)\n",
    "grid_search = grid_search.fit(X_train, y_train)"
   ]
  },
  {
   "cell_type": "code",
   "execution_count": null,
   "metadata": {},
   "outputs": [],
   "source": [
    "best_accuracy = grid_search.best_score_"
   ]
  },
  {
   "cell_type": "code",
   "execution_count": null,
   "metadata": {},
   "outputs": [],
   "source": [
    "best_accuracy"
   ]
  },
  {
   "cell_type": "code",
   "execution_count": null,
   "metadata": {},
   "outputs": [],
   "source": [
    "best_parameters = grid_search.best_params_"
   ]
  },
  {
   "cell_type": "code",
   "execution_count": null,
   "metadata": {},
   "outputs": [],
   "source": [
    "best_parameters"
   ]
  },
  {
   "cell_type": "code",
   "execution_count": null,
   "metadata": {},
   "outputs": [],
   "source": [
    "from sklearn.ensemble import RandomForestClassifier\n",
    "tunedRF = RandomForestClassifier(n_estimators = best_parameters[\"n_estimators\"],\n",
    "                                 criterion = best_parameters[\"criterion\"],\n",
    "                                 max_depth = best_parameters[\"max_depth\"],\n",
    "                                 min_samples_split = best_parameters[\"min_samples_split\"],\n",
    "                                 min_samples_leaf = best_parameters[\"min_samples_leaf\"],\n",
    "                                 min_weight_fraction_leaf = best_parameters[\"min_weight_fraction_leaf\"])\n",
    "tunedRF.fit(X_train, y_train)"
   ]
  },
  {
   "cell_type": "code",
   "execution_count": null,
   "metadata": {},
   "outputs": [],
   "source": [
    "print('Confusion Matrix for Tuned RF: \\n',confusion_matrix(y_test, tunedRF.predict(X_test)))\n",
    "print('Accuracy for Tuned RF: \\n',accuracy_score(y_test, tunedRF.predict(X_test)))\n",
    "acc.append(accuracy_score(y_test, tunedRF.predict(X_test)))\n",
    "print('Precision for Tuned RF: \\n',precision_score(y_test, tunedRF.predict(X_test)))\n",
    "precision.append(precision_score(y_test, tunedRF.predict(X_test)))\n",
    "print('Recall for Tuned RF: \\n',recall_score(y_test, tunedRF.predict(X_test)))\n",
    "recall.append(recall_score(y_test, tunedRF.predict(X_test)))\n",
    "print('f1_score for Tuned RF: \\n',f1_score(y_test, tunedRF.predict(X_test)))\n",
    "f1.append(f1_score(y_test, tunedRF.predict(X_test)))"
   ]
  },
  {
   "cell_type": "code",
   "execution_count": null,
   "metadata": {},
   "outputs": [],
   "source": [
    "model_dict = {'Models': models,\n",
    "             'Accuracies': acc,\n",
    "             'Precision': precision,\n",
    "             'Recall': recall,\n",
    "             'f1-score': f1,\n",
    "             'AUC_Score':AUC_Score}"
   ]
  },
  {
   "cell_type": "code",
   "execution_count": null,
   "metadata": {},
   "outputs": [],
   "source": [
    "model_df = pd.DataFrame(model_dict)\n",
    "model_df"
   ]
  },
  {
   "cell_type": "code",
   "execution_count": null,
   "metadata": {},
   "outputs": [],
   "source": [
    "model_df = model_df.sort_values(['Accuracies', 'f1-score', 'Recall', 'Precision'],\n",
    "                               ascending=False)\n",
    "model_df"
   ]
  },
  {
   "cell_type": "code",
   "execution_count": null,
   "metadata": {},
   "outputs": [],
   "source": []
  }
 ],
 "metadata": {
  "kernelspec": {
   "display_name": "Python 3",
   "language": "python",
   "name": "python3"
  },
  "language_info": {
   "codemirror_mode": {
    "name": "ipython",
    "version": 3
   },
   "file_extension": ".py",
   "mimetype": "text/x-python",
   "name": "python",
   "nbconvert_exporter": "python",
   "pygments_lexer": "ipython3",
   "version": "3.7.6"
  }
 },
 "nbformat": 4,
 "nbformat_minor": 2
}
